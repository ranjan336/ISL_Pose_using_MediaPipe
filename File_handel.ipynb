{
 "cells": [
  {
   "cell_type": "code",
   "execution_count": 8,
   "metadata": {},
   "outputs": [],
   "source": [
    "import zipfile\n",
    "import os\n",
    "from pathlib import Path\n",
    "\n",
    "def extract_and_organize_zips(directory_path, extract_path):\n",
    "    # Ensure the extract_path exists before extracting files\n",
    "    Path(extract_path).mkdir(parents=True, exist_ok=True)\n",
    "\n",
    "    # Iterate through each zip file in the directory\n",
    "    for zip_file_name in os.listdir(directory_path):\n",
    "        if zip_file_name.endswith('.zip'):\n",
    "            zip_file_path = os.path.join(directory_path, zip_file_name)\n",
    "\n",
    "            # Create a ZipFile object\n",
    "            with zipfile.ZipFile(zip_file_path, 'r') as zip_ref:\n",
    "                # Extract all the contents to the specified directory\n",
    "                zip_ref.extractall(extract_path)\n",
    "\n",
    "    # Get the list of extracted files\n",
    "    extracted_files = os.listdir(extract_path)\n",
    "\n",
    "    # Create folders based on the first letter of each file\n",
    "    for file_name in extracted_files:\n",
    "        if os.path.isfile(os.path.join(extract_path, file_name)):\n",
    "            first_letter = file_name[0].upper()\n",
    "            folder_path = os.path.join(extract_path, first_letter)\n",
    "\n",
    "            # Create the folder if it doesn't exist\n",
    "            os.makedirs(folder_path, exist_ok=True)\n",
    "\n",
    "            # Move the file to the corresponding folder\n",
    "            source_path = os.path.join(extract_path, file_name)\n",
    "            dest_path = os.path.join(folder_path, file_name)\n",
    "            os.rename(source_path, dest_path)\n",
    "\n",
    "    print(\"Files organized in folders based on the first letter and sorted alphabetically.\")\n",
    "\n",
    "\n"
   ]
  },
  {
   "cell_type": "code",
   "execution_count": 9,
   "metadata": {},
   "outputs": [
    {
     "name": "stdout",
     "output_type": "stream",
     "text": [
      "Files organized in folders based on the first letter and sorted alphabetically.\n"
     ]
    }
   ],
   "source": [
    "# Example usage:\n",
    "zip_directory_path = '/Users/ranjanpatra/Downloads/ISL_DATA_DICTIONARY/Backup'\n",
    "extract_path = '/Users/ranjanpatra/Downloads/ISL_DATA_DICTIONARY/Extracted'\n",
    "\n",
    "extract_and_organize_zips(zip_directory_path, extract_path)\n"
   ]
  }
 ],
 "metadata": {
  "kernelspec": {
   "display_name": "Python 3",
   "language": "python",
   "name": "python3"
  },
  "language_info": {
   "codemirror_mode": {
    "name": "ipython",
    "version": 3
   },
   "file_extension": ".py",
   "mimetype": "text/x-python",
   "name": "python",
   "nbconvert_exporter": "python",
   "pygments_lexer": "ipython3",
   "version": "3.10.2"
  }
 },
 "nbformat": 4,
 "nbformat_minor": 2
}
