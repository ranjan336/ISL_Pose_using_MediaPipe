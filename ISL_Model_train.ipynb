{
 "cells": [
  {
   "cell_type": "code",
   "execution_count": 370,
   "metadata": {},
   "outputs": [],
   "source": [
    "from sklearn.model_selection import train_test_split\n",
    "from tensorflow.keras.utils import to_categorical"
   ]
  },
  {
   "cell_type": "code",
   "execution_count": 371,
   "metadata": {},
   "outputs": [],
   "source": [
    "import numpy as np\n",
    "import pandas as pd\n",
    "from sklearn.model_selection import train_test_split\n",
    "from tensorflow.keras.utils import to_categorical\n",
    "import ast\n",
    "import json"
   ]
  },
  {
   "cell_type": "code",
   "execution_count": 372,
   "metadata": {},
   "outputs": [],
   "source": [
    "\n",
    "# Load your data (replace with your file path)\n",
    "#data= pd.read_parquet('your_landmark_data.parquet')\n",
    "\n",
    "df_from_parquet = pd.read_parquet(r\"C:\\Users\\ranjan.patra\\OneDrive - Lingaro Sp. z o. o\\DATA\\IITJ\\Course\\Projects\\ISL\\ISL_CSLRT_Corpus\\Mp_Data\\LandMarks_lh_rh\")\n"
   ]
  },
  {
   "cell_type": "code",
   "execution_count": 373,
   "metadata": {},
   "outputs": [],
   "source": [
    "unique_labels = df_from_parquet['Label'].unique()\n",
    "label_id_mapping = {label: idx for idx, label in enumerate(unique_labels)}\n",
    "# Step 3: Map the Label to Label_id in the DataFrame\n",
    "df_from_parquet['Label_id'] = df_from_parquet['Label'].map(label_id_mapping)\n",
    "label_info = [{label, label_id} for label, label_id in label_id_mapping.items()]"
   ]
  },
  {
   "cell_type": "code",
   "execution_count": 374,
   "metadata": {},
   "outputs": [],
   "source": [
    "df_1=df_from_parquet[[\"Label_id\",\"Sample_Number\",\"Frame_Number\",\"Keypoints\"]]"
   ]
  },
  {
   "cell_type": "code",
   "execution_count": 375,
   "metadata": {},
   "outputs": [
    {
     "name": "stderr",
     "output_type": "stream",
     "text": [
      "C:\\Users\\ranjan.patra\\AppData\\Local\\Temp\\ipykernel_13148\\3559514141.py:17: SettingWithCopyWarning: \n",
      "A value is trying to be set on a copy of a slice from a DataFrame.\n",
      "Try using .loc[row_indexer,col_indexer] = value instead\n",
      "\n",
      "See the caveats in the documentation: https://pandas.pydata.org/pandas-docs/stable/user_guide/indexing.html#returning-a-view-versus-a-copy\n",
      "  df_1['keypoints_flattened'] = df_1['Keypoints'].apply(flatten_keypoints)\n"
     ]
    }
   ],
   "source": [
    "def flatten_keypoints(keypoints):\n",
    "    # Check if the keypoints is a string or an array\n",
    "    if isinstance(keypoints, str):\n",
    "        # If it's a string, remove the curly braces and split into individual components\n",
    "        keypoints_str = keypoints.strip('{}')\n",
    "        keypoints_list = keypoints_str.split(',')\n",
    "        # Convert to float and return as a numpy array\n",
    "        return np.array([float(kp) for kp in keypoints_list])\n",
    "    elif isinstance(keypoints, np.ndarray):\n",
    "        # If it's already an ndarray, flatten it directly\n",
    "        flattened = np.concatenate([np.array([float(kp) for kp in kp_str.strip('{}').split(',')]) for kp_str in keypoints])\n",
    "        return flattened\n",
    "    else:\n",
    "        return np.array([])  # Return an empty array for unexpected types\n",
    "\n",
    "# Apply the flattening function to the Keypoints column\n",
    "df_1['keypoints_flattened'] = df_1['Keypoints'].apply(flatten_keypoints)\n",
    "\n",
    "# Display the DataFrame with the new column\n",
    "#print(df_1[['Label_id', 'Sample_Number', 'Frame_Number', 'keypoints_flattened']])\n"
   ]
  },
  {
   "cell_type": "markdown",
   "metadata": {},
   "source": [
    "import pandas as pd\n",
    "import numpy as np\n",
    "\n",
    "# Assuming df_1 is already defined and contains columns: 'Label_id', 'Sample_Number', 'Frame_Number', 'Keypoints'\n",
    "\n",
    "# Step 1: Group by Label_id and Sample_Number\n",
    "grouped = df_1.groupby(['Label_id', 'Sample_Number'])\n",
    "\n",
    "# Step 2: Create a list to hold the sequences\n",
    "sequences = []\n",
    "\n",
    "# Define the required number of timesteps (n_timesteps = 192 in this case)\n",
    "unique_frame_numbers = df_1['Frame_Number'].unique()\n",
    "n_timesteps = len(unique_frame_numbers) \n",
    "\n",
    "for (label_id, sample_number), group in grouped:\n",
    "    keypoints = group['keypoints_flattened'].to_list()  # Extract keypoints as a list of arrays\n",
    "    \n",
    "    # If the number of frames is less than the required n_timesteps\n",
    "    if len(keypoints) < n_timesteps:\n",
    "        # Get the last keypoint (to use for padding)\n",
    "        last_keypoint = keypoints[-1]\n",
    "        # Add the last keypoint repeatedly until we reach 192 frames\n",
    "        while len(keypoints) < n_timesteps:\n",
    "            keypoints.append(last_keypoint)\n",
    "\n",
    "    # Now keypoints has exactly 192 frames\n",
    "    for i in range(len(keypoints) - n_timesteps + 1):\n",
    "        sequence = keypoints[i:i + n_timesteps]\n",
    "        sequences.append((label_id, sample_number, sequence))\n",
    "\n",
    "# Step 3: Convert to numpy array\n",
    "X = np.array([seq[2] for seq in sequences])  # Extract sequences\n",
    "y = np.array([seq[0] for seq in sequences])  # Extract labels (Label_id)\n",
    "\n",
    "# Reshape X for LSTM (samples, timesteps, features)\n",
    "# Assuming each keypoint array is of size (75,)\n",
    "X = X.reshape((X.shape[0], n_timesteps, 225))\n",
    "\n",
    "# Now X is ready for LSTM model input\n",
    "print(f'X shape: {X.shape}, y shape: {y.shape}')\n"
   ]
  },
  {
   "cell_type": "code",
   "execution_count": 406,
   "metadata": {},
   "outputs": [
    {
     "name": "stdout",
     "output_type": "stream",
     "text": [
      "X shape: (487, 192, 225), y shape: (487,)\n"
     ]
    }
   ],
   "source": [
    "import pandas as pd\n",
    "import numpy as np\n",
    "\n",
    "# Assuming df_1 is already defined and contains columns: 'Label_id', 'Sample_Number', 'Frame_Number', 'Keypoints'\n",
    "\n",
    "# Step 1: Group by Label_id and Sample_Number\n",
    "grouped = df_1.groupby(['Label_id', 'Sample_Number'])\n",
    "\n",
    "# Step 2: Create a list to hold the sequences\n",
    "sequences = []\n",
    "\n",
    "# Define the required number of timesteps (n_timesteps = 192 in this case)\n",
    "unique_frame_numbers = df_1['Frame_Number'].unique()\n",
    "n_timesteps = len(unique_frame_numbers) \n",
    "\n",
    "for (label_id, sample_number), group in grouped:\n",
    "    keypoints = group['keypoints_flattened'].to_list()  # Extract keypoints as a list of arrays\n",
    "        \n",
    "    # If the number of frames is less than the required n_timesteps\n",
    "    if len(keypoints) < n_timesteps:\n",
    "        # Get the last keypoint (to use for padding)\n",
    "        last_keypoint = keypoints[-1]\n",
    "        # Add the last keypoint repeatedly until we reach 192 frames\n",
    "        while len(keypoints) < n_timesteps:\n",
    "            keypoints.append(last_keypoint)\n",
    "\n",
    "    # Flatten keypoints (assuming each keypoint is an array of shape (75,))\n",
    "    flattened_keypoints = [kp.flatten() for kp in keypoints]  # Flatten each keypoint\n",
    "\n",
    "    # Now keypoints has exactly 192 frames\n",
    "    for i in range(len(flattened_keypoints) - n_timesteps + 1):\n",
    "        sequence = flattened_keypoints[i:i + n_timesteps]\n",
    "        sequences.append((label_id, sample_number, sequence))\n",
    "\n",
    "# Step 3: Convert to numpy array\n",
    "X = np.array([seq[2] for seq in sequences])  # Extract sequences\n",
    "y = np.array([seq[0] for seq in sequences])  # Extract labels (Label_id)\n",
    "\n",
    "# Reshape X for LSTM (samples, timesteps, features)\n",
    "# Assuming each keypoint array is of size (75,), it will remain (75,) even after flattening\n",
    "X = X.reshape((X.shape[0], n_timesteps, 225))\n",
    "\n",
    "# Now X is ready for LSTM model input\n",
    "print(f'X shape: {X.shape}, y shape: {y.shape}')\n"
   ]
  },
  {
   "cell_type": "code",
   "execution_count": 407,
   "metadata": {},
   "outputs": [
    {
     "data": {
      "text/plain": [
       "(487, 192, 225)"
      ]
     },
     "execution_count": 407,
     "metadata": {},
     "output_type": "execute_result"
    }
   ],
   "source": [
    "np.array(X).shape\n"
   ]
  },
  {
   "cell_type": "code",
   "execution_count": 408,
   "metadata": {},
   "outputs": [
    {
     "data": {
      "text/plain": [
       "(487,)"
      ]
     },
     "execution_count": 408,
     "metadata": {},
     "output_type": "execute_result"
    }
   ],
   "source": [
    "y.shape"
   ]
  },
  {
   "cell_type": "code",
   "execution_count": 409,
   "metadata": {},
   "outputs": [],
   "source": [
    "y = to_categorical(y).astype(int)\n"
   ]
  },
  {
   "cell_type": "code",
   "execution_count": 410,
   "metadata": {},
   "outputs": [
    {
     "data": {
      "text/plain": [
       "(487, 100)"
      ]
     },
     "execution_count": 410,
     "metadata": {},
     "output_type": "execute_result"
    }
   ],
   "source": [
    "y.shape"
   ]
  },
  {
   "cell_type": "code",
   "execution_count": 411,
   "metadata": {},
   "outputs": [],
   "source": [
    "X_train, X_test, y_train, y_test = train_test_split(X, y, test_size=0.10)\n"
   ]
  },
  {
   "cell_type": "code",
   "execution_count": 412,
   "metadata": {},
   "outputs": [
    {
     "data": {
      "text/plain": [
       "(49, 100)"
      ]
     },
     "execution_count": 412,
     "metadata": {},
     "output_type": "execute_result"
    }
   ],
   "source": [
    "y_test.shape"
   ]
  },
  {
   "cell_type": "code",
   "execution_count": 421,
   "metadata": {},
   "outputs": [],
   "source": [
    "from tensorflow.keras.models import Sequential\n",
    "from tensorflow.keras.layers import LSTM, Dense\n",
    "from tensorflow.keras.callbacks import TensorBoard\n",
    "from tensorflow.keras.optimizers import Adam\n",
    "import os"
   ]
  },
  {
   "cell_type": "code",
   "execution_count": 422,
   "metadata": {},
   "outputs": [],
   "source": [
    "log_dir = os.path.join('Logs')\n",
    "tb_callback = TensorBoard(log_dir=log_dir)"
   ]
  },
  {
   "cell_type": "code",
   "execution_count": 436,
   "metadata": {},
   "outputs": [
    {
     "data": {
      "text/plain": [
       "100"
      ]
     },
     "execution_count": 436,
     "metadata": {},
     "output_type": "execute_result"
    }
   ],
   "source": [
    "y.shape[1]"
   ]
  },
  {
   "cell_type": "code",
   "execution_count": 437,
   "metadata": {},
   "outputs": [],
   "source": [
    "model = Sequential()\n",
    "model.add(LSTM(64, return_sequences=True, activation='relu', input_shape=(192,225)))\n",
    "model.add(LSTM(128, return_sequences=True, activation='relu'))\n",
    "model.add(LSTM(64, return_sequences=False, activation='relu'))\n",
    "model.add(Dense(64, activation='relu'))\n",
    "model.add(Dense(32, activation='relu'))\n",
    "model.add(Dense(y.shape[1], activation='softmax'))"
   ]
  },
  {
   "cell_type": "code",
   "execution_count": 438,
   "metadata": {},
   "outputs": [],
   "source": [
    "res = [.7, 0.2, 0.1]"
   ]
  },
  {
   "cell_type": "code",
   "execution_count": 440,
   "metadata": {},
   "outputs": [
    {
     "data": {
      "text/plain": [
       "array([1, 0, 0, 0, 0, 0, 0, 0, 0, 0, 0, 0, 0, 0, 0, 0, 0, 0, 0, 0, 0, 0,\n",
       "       0, 0, 0, 0, 0, 0, 0, 0, 0, 0, 0, 0, 0, 0, 0, 0, 0, 0, 0, 0, 0, 0,\n",
       "       0, 0, 0, 0, 0, 0, 0, 0, 0, 0, 0, 0, 0, 0, 0, 0, 0, 0, 0, 0, 0, 0,\n",
       "       0, 0, 0, 0, 0, 0, 0, 0, 0, 0, 0, 0, 0, 0, 0, 0, 0, 0, 0, 0, 0, 0,\n",
       "       0, 0, 0, 0, 0, 0, 0, 0, 0, 0, 0, 0])"
      ]
     },
     "execution_count": 440,
     "metadata": {},
     "output_type": "execute_result"
    }
   ],
   "source": [
    "y[np.argmax(res)]"
   ]
  },
  {
   "cell_type": "markdown",
   "metadata": {},
   "source": [
    "model.compile(optimizer='Adam', loss='categorical_crossentropy', metrics=['categorical_accuracy'])"
   ]
  },
  {
   "cell_type": "code",
   "execution_count": 441,
   "metadata": {},
   "outputs": [],
   "source": [
    "model.compile(optimizer=Adam(learning_rate=1e-5), loss='categorical_crossentropy', metrics=['categorical_accuracy'])\n",
    "optimizer = Adam(clipvalue=1.0)"
   ]
  },
  {
   "cell_type": "code",
   "execution_count": 442,
   "metadata": {},
   "outputs": [
    {
     "name": "stdout",
     "output_type": "stream",
     "text": [
      "Epoch 1/200\n",
      "16/16 [==============================] - 8s 330ms/step - loss: 4.6059 - categorical_accuracy: 0.0021\n",
      "Epoch 2/200\n",
      "16/16 [==============================] - 5s 327ms/step - loss: 4.6056 - categorical_accuracy: 0.0041\n",
      "Epoch 3/200\n",
      "16/16 [==============================] - 6s 386ms/step - loss: 4.6054 - categorical_accuracy: 0.0062\n",
      "Epoch 4/200\n",
      "16/16 [==============================] - 6s 393ms/step - loss: 4.6052 - categorical_accuracy: 0.0062\n",
      "Epoch 5/200\n",
      "16/16 [==============================] - 6s 401ms/step - loss: 4.6050 - categorical_accuracy: 0.0062\n",
      "Epoch 6/200\n",
      "16/16 [==============================] - 6s 383ms/step - loss: 4.6049 - categorical_accuracy: 0.0062\n",
      "Epoch 7/200\n",
      "16/16 [==============================] - 6s 401ms/step - loss: 4.6047 - categorical_accuracy: 0.0062\n",
      "Epoch 8/200\n",
      "16/16 [==============================] - 6s 365ms/step - loss: 4.6047 - categorical_accuracy: 0.0062\n",
      "Epoch 9/200\n",
      "16/16 [==============================] - 6s 358ms/step - loss: 4.6045 - categorical_accuracy: 0.0062\n",
      "Epoch 10/200\n",
      "16/16 [==============================] - 6s 369ms/step - loss: 4.6044 - categorical_accuracy: 0.0082\n",
      "Epoch 11/200\n",
      "16/16 [==============================] - 6s 367ms/step - loss: 4.6043 - categorical_accuracy: 0.0103\n",
      "Epoch 12/200\n",
      "16/16 [==============================] - 6s 399ms/step - loss: 4.6042 - categorical_accuracy: 0.0123\n",
      "Epoch 13/200\n",
      "16/16 [==============================] - 7s 421ms/step - loss: 4.6041 - categorical_accuracy: 0.0123\n",
      "Epoch 14/200\n",
      "16/16 [==============================] - 7s 433ms/step - loss: 4.6040 - categorical_accuracy: 0.0123\n",
      "Epoch 15/200\n",
      "16/16 [==============================] - 8s 469ms/step - loss: 4.6039 - categorical_accuracy: 0.0123\n",
      "Epoch 16/200\n",
      "16/16 [==============================] - 8s 518ms/step - loss: 4.6038 - categorical_accuracy: 0.0123\n",
      "Epoch 17/200\n",
      "16/16 [==============================] - 9s 534ms/step - loss: 4.6037 - categorical_accuracy: 0.0123\n",
      "Epoch 18/200\n",
      "16/16 [==============================] - 8s 529ms/step - loss: 4.6036 - categorical_accuracy: 0.0123\n",
      "Epoch 19/200\n",
      "16/16 [==============================] - 8s 494ms/step - loss: 4.6035 - categorical_accuracy: 0.0123\n",
      "Epoch 20/200\n",
      "16/16 [==============================] - 8s 492ms/step - loss: 4.6034 - categorical_accuracy: 0.0144\n",
      "Epoch 21/200\n",
      "16/16 [==============================] - 9s 536ms/step - loss: 4.6033 - categorical_accuracy: 0.0144\n",
      "Epoch 22/200\n",
      "16/16 [==============================] - 9s 536ms/step - loss: 4.6032 - categorical_accuracy: 0.0144\n",
      "Epoch 23/200\n",
      "16/16 [==============================] - 9s 528ms/step - loss: 4.6031 - categorical_accuracy: 0.0144\n",
      "Epoch 24/200\n",
      "16/16 [==============================] - 8s 522ms/step - loss: 4.6030 - categorical_accuracy: 0.0144\n",
      "Epoch 25/200\n",
      "16/16 [==============================] - 8s 518ms/step - loss: 4.6029 - categorical_accuracy: 0.0144\n",
      "Epoch 26/200\n",
      "16/16 [==============================] - 9s 547ms/step - loss: 4.6028 - categorical_accuracy: 0.0164\n",
      "Epoch 27/200\n",
      "16/16 [==============================] - 9s 562ms/step - loss: 4.6027 - categorical_accuracy: 0.0164\n",
      "Epoch 28/200\n",
      "16/16 [==============================] - 9s 535ms/step - loss: 4.6026 - categorical_accuracy: 0.0164\n",
      "Epoch 29/200\n",
      "16/16 [==============================] - 8s 523ms/step - loss: 4.6025 - categorical_accuracy: 0.0164\n",
      "Epoch 30/200\n",
      "16/16 [==============================] - 9s 570ms/step - loss: 4.6024 - categorical_accuracy: 0.0164\n",
      "Epoch 31/200\n",
      "16/16 [==============================] - 9s 547ms/step - loss: 4.6022 - categorical_accuracy: 0.0164\n",
      "Epoch 32/200\n",
      "16/16 [==============================] - 8s 521ms/step - loss: 4.6021 - categorical_accuracy: 0.0164\n",
      "Epoch 33/200\n",
      "16/16 [==============================] - 10s 602ms/step - loss: 4.6020 - categorical_accuracy: 0.0164\n",
      "Epoch 34/200\n",
      "16/16 [==============================] - 10s 602ms/step - loss: 4.6019 - categorical_accuracy: 0.0164\n",
      "Epoch 35/200\n",
      "16/16 [==============================] - 9s 532ms/step - loss: 4.6018 - categorical_accuracy: 0.0164\n",
      "Epoch 36/200\n",
      "16/16 [==============================] - 8s 474ms/step - loss: 4.6017 - categorical_accuracy: 0.0164\n",
      "Epoch 37/200\n",
      "16/16 [==============================] - 8s 503ms/step - loss: 4.6015 - categorical_accuracy: 0.0164\n",
      "Epoch 38/200\n",
      "16/16 [==============================] - 7s 463ms/step - loss: 4.6013 - categorical_accuracy: 0.0164\n",
      "Epoch 39/200\n",
      "16/16 [==============================] - 8s 489ms/step - loss: 4.6012 - categorical_accuracy: 0.0164\n",
      "Epoch 40/200\n",
      "16/16 [==============================] - 8s 471ms/step - loss: 4.6010 - categorical_accuracy: 0.0144\n",
      "Epoch 41/200\n",
      "16/16 [==============================] - 8s 485ms/step - loss: 4.6008 - categorical_accuracy: 0.0164\n",
      "Epoch 42/200\n",
      "16/16 [==============================] - 8s 493ms/step - loss: 4.6006 - categorical_accuracy: 0.0164\n",
      "Epoch 43/200\n",
      "16/16 [==============================] - 8s 466ms/step - loss: 4.6004 - categorical_accuracy: 0.0164\n",
      "Epoch 44/200\n",
      "16/16 [==============================] - 7s 448ms/step - loss: 4.6002 - categorical_accuracy: 0.0144\n",
      "Epoch 45/200\n",
      "16/16 [==============================] - 7s 464ms/step - loss: 4.5999 - categorical_accuracy: 0.0144\n",
      "Epoch 46/200\n",
      "16/16 [==============================] - 8s 521ms/step - loss: 4.5996 - categorical_accuracy: 0.0123\n",
      "Epoch 47/200\n",
      "16/16 [==============================] - 8s 524ms/step - loss: 4.5993 - categorical_accuracy: 0.0123\n",
      "Epoch 48/200\n",
      "16/16 [==============================] - 8s 485ms/step - loss: 4.5989 - categorical_accuracy: 0.0144\n",
      "Epoch 49/200\n",
      "16/16 [==============================] - 8s 518ms/step - loss: 4.5984 - categorical_accuracy: 0.0144\n",
      "Epoch 50/200\n",
      "16/16 [==============================] - 8s 495ms/step - loss: 4.5980 - categorical_accuracy: 0.0164\n",
      "Epoch 51/200\n",
      "16/16 [==============================] - 8s 486ms/step - loss: 4.5973 - categorical_accuracy: 0.0164\n",
      "Epoch 52/200\n",
      "16/16 [==============================] - 9s 597ms/step - loss: 4.5966 - categorical_accuracy: 0.0164\n",
      "Epoch 53/200\n",
      "16/16 [==============================] - 12s 732ms/step - loss: 4.5961 - categorical_accuracy: 0.0144\n",
      "Epoch 54/200\n",
      "16/16 [==============================] - 11s 674ms/step - loss: 4.5950 - categorical_accuracy: 0.0123\n",
      "Epoch 55/200\n",
      "16/16 [==============================] - 10s 596ms/step - loss: 4.5928 - categorical_accuracy: 0.0123\n",
      "Epoch 56/200\n",
      "16/16 [==============================] - 9s 577ms/step - loss: 4.5887 - categorical_accuracy: 0.0123\n",
      "Epoch 57/200\n",
      "16/16 [==============================] - 10s 617ms/step - loss: 4.6011 - categorical_accuracy: 0.0144\n",
      "Epoch 58/200\n",
      "16/16 [==============================] - 11s 690ms/step - loss: 4.5872 - categorical_accuracy: 0.0144\n",
      "Epoch 59/200\n",
      "16/16 [==============================] - 10s 637ms/step - loss: 4.5868 - categorical_accuracy: 0.0144\n",
      "Epoch 60/200\n",
      "16/16 [==============================] - 9s 583ms/step - loss: 4.5853 - categorical_accuracy: 0.0144\n",
      "Epoch 61/200\n",
      "16/16 [==============================] - 10s 633ms/step - loss: 4.5925 - categorical_accuracy: 0.0164\n",
      "Epoch 62/200\n",
      "16/16 [==============================] - 10s 577ms/step - loss: 9.7862 - categorical_accuracy: 0.0082\n",
      "Epoch 63/200\n",
      "16/16 [==============================] - 10s 612ms/step - loss: 107.6218 - categorical_accuracy: 0.0123\n",
      "Epoch 64/200\n",
      "16/16 [==============================] - 9s 579ms/step - loss: 1299.2583 - categorical_accuracy: 0.0103\n",
      "Epoch 65/200\n",
      "16/16 [==============================] - 9s 539ms/step - loss: 123.4491 - categorical_accuracy: 0.0082\n",
      "Epoch 66/200\n",
      "16/16 [==============================] - 8s 529ms/step - loss: 13.2834 - categorical_accuracy: 0.0082\n",
      "Epoch 67/200\n",
      "16/16 [==============================] - 8s 503ms/step - loss: 239.9547 - categorical_accuracy: 0.0082\n",
      "Epoch 68/200\n",
      "16/16 [==============================] - 10s 604ms/step - loss: 45.7445 - categorical_accuracy: 0.0103\n",
      "Epoch 69/200\n",
      "16/16 [==============================] - 9s 563ms/step - loss: 32.3652 - categorical_accuracy: 0.0082\n",
      "Epoch 70/200\n",
      "16/16 [==============================] - 8s 510ms/step - loss: 21.3435 - categorical_accuracy: 0.0082\n",
      "Epoch 71/200\n",
      "16/16 [==============================] - 9s 544ms/step - loss: 44.9963 - categorical_accuracy: 0.0082\n",
      "Epoch 72/200\n",
      "16/16 [==============================] - 8s 513ms/step - loss: nan - categorical_accuracy: 0.0103\n",
      "Epoch 73/200\n",
      "16/16 [==============================] - 8s 507ms/step - loss: nan - categorical_accuracy: 0.0103\n",
      "Epoch 74/200\n",
      "16/16 [==============================] - 8s 488ms/step - loss: nan - categorical_accuracy: 0.0103\n",
      "Epoch 75/200\n",
      "16/16 [==============================] - 8s 472ms/step - loss: nan - categorical_accuracy: 0.0103\n",
      "Epoch 76/200\n",
      "16/16 [==============================] - 8s 478ms/step - loss: nan - categorical_accuracy: 0.0103\n",
      "Epoch 77/200\n",
      "16/16 [==============================] - 8s 508ms/step - loss: nan - categorical_accuracy: 0.0103\n",
      "Epoch 78/200\n",
      "16/16 [==============================] - 8s 496ms/step - loss: nan - categorical_accuracy: 0.0103\n",
      "Epoch 79/200\n",
      "16/16 [==============================] - 8s 505ms/step - loss: nan - categorical_accuracy: 0.0103\n",
      "Epoch 80/200\n",
      "16/16 [==============================] - 10s 635ms/step - loss: nan - categorical_accuracy: 0.0103\n",
      "Epoch 81/200\n",
      "16/16 [==============================] - 10s 644ms/step - loss: nan - categorical_accuracy: 0.0103\n",
      "Epoch 82/200\n",
      "16/16 [==============================] - 10s 602ms/step - loss: nan - categorical_accuracy: 0.0103\n",
      "Epoch 83/200\n",
      "16/16 [==============================] - 12s 783ms/step - loss: nan - categorical_accuracy: 0.0103\n",
      "Epoch 84/200\n",
      "16/16 [==============================] - 8s 505ms/step - loss: nan - categorical_accuracy: 0.0103\n",
      "Epoch 85/200\n",
      "16/16 [==============================] - 8s 488ms/step - loss: nan - categorical_accuracy: 0.0103\n",
      "Epoch 86/200\n",
      "16/16 [==============================] - 9s 569ms/step - loss: nan - categorical_accuracy: 0.0103\n",
      "Epoch 87/200\n",
      "16/16 [==============================] - 9s 548ms/step - loss: nan - categorical_accuracy: 0.0103\n",
      "Epoch 88/200\n",
      "16/16 [==============================] - 10s 604ms/step - loss: nan - categorical_accuracy: 0.0103\n",
      "Epoch 89/200\n",
      "16/16 [==============================] - 8s 503ms/step - loss: nan - categorical_accuracy: 0.0103\n",
      "Epoch 90/200\n",
      "16/16 [==============================] - 8s 527ms/step - loss: nan - categorical_accuracy: 0.0103\n",
      "Epoch 91/200\n",
      "16/16 [==============================] - 9s 557ms/step - loss: nan - categorical_accuracy: 0.0103\n",
      "Epoch 92/200\n",
      "16/16 [==============================] - 8s 482ms/step - loss: nan - categorical_accuracy: 0.0103\n",
      "Epoch 93/200\n",
      "16/16 [==============================] - 9s 536ms/step - loss: nan - categorical_accuracy: 0.0103\n",
      "Epoch 94/200\n",
      "16/16 [==============================] - 8s 507ms/step - loss: nan - categorical_accuracy: 0.0103\n",
      "Epoch 95/200\n",
      "16/16 [==============================] - 9s 541ms/step - loss: nan - categorical_accuracy: 0.0103\n",
      "Epoch 96/200\n",
      "16/16 [==============================] - 7s 465ms/step - loss: nan - categorical_accuracy: 0.0103\n",
      "Epoch 97/200\n",
      "16/16 [==============================] - 8s 469ms/step - loss: nan - categorical_accuracy: 0.0103\n",
      "Epoch 98/200\n",
      "16/16 [==============================] - 8s 506ms/step - loss: nan - categorical_accuracy: 0.0103\n",
      "Epoch 99/200\n",
      "16/16 [==============================] - 8s 477ms/step - loss: nan - categorical_accuracy: 0.0103\n",
      "Epoch 100/200\n",
      "16/16 [==============================] - 7s 459ms/step - loss: nan - categorical_accuracy: 0.0103\n",
      "Epoch 101/200\n",
      "16/16 [==============================] - 7s 460ms/step - loss: nan - categorical_accuracy: 0.0103\n",
      "Epoch 102/200\n",
      "16/16 [==============================] - 7s 459ms/step - loss: nan - categorical_accuracy: 0.0103\n",
      "Epoch 103/200\n",
      "16/16 [==============================] - 8s 484ms/step - loss: nan - categorical_accuracy: 0.0103\n",
      "Epoch 104/200\n",
      "16/16 [==============================] - 8s 464ms/step - loss: nan - categorical_accuracy: 0.0103\n",
      "Epoch 105/200\n",
      "16/16 [==============================] - 7s 439ms/step - loss: nan - categorical_accuracy: 0.0103\n",
      "Epoch 106/200\n",
      "16/16 [==============================] - 7s 450ms/step - loss: nan - categorical_accuracy: 0.0103\n",
      "Epoch 107/200\n",
      "16/16 [==============================] - 7s 414ms/step - loss: nan - categorical_accuracy: 0.0103\n",
      "Epoch 108/200\n",
      "16/16 [==============================] - 7s 423ms/step - loss: nan - categorical_accuracy: 0.0103\n",
      "Epoch 109/200\n",
      "16/16 [==============================] - 7s 447ms/step - loss: nan - categorical_accuracy: 0.0103\n",
      "Epoch 110/200\n",
      "16/16 [==============================] - 7s 430ms/step - loss: nan - categorical_accuracy: 0.0103\n",
      "Epoch 111/200\n",
      "16/16 [==============================] - 7s 464ms/step - loss: nan - categorical_accuracy: 0.0103\n",
      "Epoch 112/200\n",
      "16/16 [==============================] - 8s 514ms/step - loss: nan - categorical_accuracy: 0.0103\n",
      "Epoch 113/200\n",
      "16/16 [==============================] - 8s 482ms/step - loss: nan - categorical_accuracy: 0.0103\n",
      "Epoch 114/200\n",
      "16/16 [==============================] - 8s 530ms/step - loss: nan - categorical_accuracy: 0.0103\n",
      "Epoch 115/200\n",
      "16/16 [==============================] - 9s 541ms/step - loss: nan - categorical_accuracy: 0.0103\n",
      "Epoch 116/200\n",
      "16/16 [==============================] - 8s 503ms/step - loss: nan - categorical_accuracy: 0.0103\n",
      "Epoch 117/200\n",
      "16/16 [==============================] - 9s 542ms/step - loss: nan - categorical_accuracy: 0.0103\n",
      "Epoch 118/200\n",
      "16/16 [==============================] - 9s 553ms/step - loss: nan - categorical_accuracy: 0.0103\n",
      "Epoch 119/200\n",
      "16/16 [==============================] - 8s 496ms/step - loss: nan - categorical_accuracy: 0.0103\n",
      "Epoch 120/200\n",
      "16/16 [==============================] - 7s 465ms/step - loss: nan - categorical_accuracy: 0.0103\n",
      "Epoch 121/200\n",
      "16/16 [==============================] - 7s 467ms/step - loss: nan - categorical_accuracy: 0.0103\n",
      "Epoch 122/200\n",
      "16/16 [==============================] - 7s 457ms/step - loss: nan - categorical_accuracy: 0.0103\n",
      "Epoch 123/200\n",
      "16/16 [==============================] - 7s 457ms/step - loss: nan - categorical_accuracy: 0.0103\n",
      "Epoch 124/200\n",
      "16/16 [==============================] - 7s 454ms/step - loss: nan - categorical_accuracy: 0.0103\n",
      "Epoch 125/200\n",
      "16/16 [==============================] - 8s 472ms/step - loss: nan - categorical_accuracy: 0.0103\n",
      "Epoch 126/200\n",
      "16/16 [==============================] - 8s 509ms/step - loss: nan - categorical_accuracy: 0.0103\n",
      "Epoch 127/200\n",
      "16/16 [==============================] - 8s 473ms/step - loss: nan - categorical_accuracy: 0.0103\n",
      "Epoch 128/200\n",
      "16/16 [==============================] - 8s 469ms/step - loss: nan - categorical_accuracy: 0.0103\n",
      "Epoch 129/200\n",
      "16/16 [==============================] - 7s 449ms/step - loss: nan - categorical_accuracy: 0.0103\n",
      "Epoch 130/200\n",
      "16/16 [==============================] - 7s 460ms/step - loss: nan - categorical_accuracy: 0.0103\n",
      "Epoch 131/200\n",
      "16/16 [==============================] - 7s 457ms/step - loss: nan - categorical_accuracy: 0.0103\n",
      "Epoch 132/200\n",
      "16/16 [==============================] - 7s 457ms/step - loss: nan - categorical_accuracy: 0.0103\n",
      "Epoch 133/200\n",
      "16/16 [==============================] - 7s 449ms/step - loss: nan - categorical_accuracy: 0.0103\n",
      "Epoch 134/200\n",
      "16/16 [==============================] - 7s 447ms/step - loss: nan - categorical_accuracy: 0.0103\n",
      "Epoch 135/200\n",
      "16/16 [==============================] - 7s 424ms/step - loss: nan - categorical_accuracy: 0.0103\n",
      "Epoch 136/200\n",
      "16/16 [==============================] - 7s 442ms/step - loss: nan - categorical_accuracy: 0.0103\n",
      "Epoch 137/200\n",
      "16/16 [==============================] - 7s 436ms/step - loss: nan - categorical_accuracy: 0.0103\n",
      "Epoch 138/200\n",
      "16/16 [==============================] - 8s 471ms/step - loss: nan - categorical_accuracy: 0.0103\n",
      "Epoch 139/200\n",
      "16/16 [==============================] - 8s 468ms/step - loss: nan - categorical_accuracy: 0.0103\n",
      "Epoch 140/200\n",
      "16/16 [==============================] - 8s 501ms/step - loss: nan - categorical_accuracy: 0.0103\n",
      "Epoch 141/200\n",
      "16/16 [==============================] - 8s 500ms/step - loss: nan - categorical_accuracy: 0.0103\n",
      "Epoch 142/200\n",
      "16/16 [==============================] - 8s 506ms/step - loss: nan - categorical_accuracy: 0.0103\n",
      "Epoch 143/200\n",
      "16/16 [==============================] - 8s 488ms/step - loss: nan - categorical_accuracy: 0.0103\n",
      "Epoch 144/200\n",
      "16/16 [==============================] - 8s 492ms/step - loss: nan - categorical_accuracy: 0.0103\n",
      "Epoch 145/200\n",
      "16/16 [==============================] - 8s 506ms/step - loss: nan - categorical_accuracy: 0.0103\n",
      "Epoch 146/200\n",
      "16/16 [==============================] - 8s 505ms/step - loss: nan - categorical_accuracy: 0.0103\n",
      "Epoch 147/200\n",
      "16/16 [==============================] - 8s 501ms/step - loss: nan - categorical_accuracy: 0.0103\n",
      "Epoch 148/200\n",
      "16/16 [==============================] - 8s 531ms/step - loss: nan - categorical_accuracy: 0.0103\n",
      "Epoch 149/200\n",
      "16/16 [==============================] - 10s 600ms/step - loss: nan - categorical_accuracy: 0.0103\n",
      "Epoch 150/200\n",
      "16/16 [==============================] - 9s 554ms/step - loss: nan - categorical_accuracy: 0.0103\n",
      "Epoch 151/200\n",
      "16/16 [==============================] - 8s 503ms/step - loss: nan - categorical_accuracy: 0.0103\n",
      "Epoch 152/200\n",
      "16/16 [==============================] - 8s 498ms/step - loss: nan - categorical_accuracy: 0.0103\n",
      "Epoch 153/200\n",
      "16/16 [==============================] - 8s 503ms/step - loss: nan - categorical_accuracy: 0.0103\n",
      "Epoch 154/200\n",
      "16/16 [==============================] - 8s 488ms/step - loss: nan - categorical_accuracy: 0.0103\n",
      "Epoch 155/200\n",
      "16/16 [==============================] - 8s 496ms/step - loss: nan - categorical_accuracy: 0.0103\n",
      "Epoch 156/200\n",
      "16/16 [==============================] - 8s 499ms/step - loss: nan - categorical_accuracy: 0.0103\n",
      "Epoch 157/200\n",
      "16/16 [==============================] - 8s 490ms/step - loss: nan - categorical_accuracy: 0.0103\n",
      "Epoch 158/200\n",
      "16/16 [==============================] - 8s 513ms/step - loss: nan - categorical_accuracy: 0.0103\n",
      "Epoch 159/200\n",
      "16/16 [==============================] - 9s 563ms/step - loss: nan - categorical_accuracy: 0.0103\n",
      "Epoch 160/200\n",
      "16/16 [==============================] - 9s 523ms/step - loss: nan - categorical_accuracy: 0.0103\n",
      "Epoch 161/200\n",
      "16/16 [==============================] - 8s 493ms/step - loss: nan - categorical_accuracy: 0.0103\n",
      "Epoch 162/200\n",
      "16/16 [==============================] - 9s 533ms/step - loss: nan - categorical_accuracy: 0.0103\n",
      "Epoch 163/200\n",
      "16/16 [==============================] - 8s 488ms/step - loss: nan - categorical_accuracy: 0.0103\n",
      "Epoch 164/200\n",
      "16/16 [==============================] - 9s 587ms/step - loss: nan - categorical_accuracy: 0.0103\n",
      "Epoch 165/200\n",
      "16/16 [==============================] - 10s 628ms/step - loss: nan - categorical_accuracy: 0.0103\n",
      "Epoch 166/200\n",
      "16/16 [==============================] - 10s 643ms/step - loss: nan - categorical_accuracy: 0.0103\n",
      "Epoch 167/200\n",
      "16/16 [==============================] - 11s 655ms/step - loss: nan - categorical_accuracy: 0.0103\n",
      "Epoch 168/200\n",
      "16/16 [==============================] - 11s 666ms/step - loss: nan - categorical_accuracy: 0.0103\n",
      "Epoch 169/200\n",
      "16/16 [==============================] - 11s 663ms/step - loss: nan - categorical_accuracy: 0.0103\n",
      "Epoch 170/200\n",
      "16/16 [==============================] - 11s 658ms/step - loss: nan - categorical_accuracy: 0.0103\n",
      "Epoch 171/200\n",
      "16/16 [==============================] - 9s 540ms/step - loss: nan - categorical_accuracy: 0.0103\n",
      "Epoch 172/200\n",
      "16/16 [==============================] - 9s 561ms/step - loss: nan - categorical_accuracy: 0.0103\n",
      "Epoch 173/200\n",
      "16/16 [==============================] - 9s 565ms/step - loss: nan - categorical_accuracy: 0.0103\n",
      "Epoch 174/200\n",
      "16/16 [==============================] - 10s 609ms/step - loss: nan - categorical_accuracy: 0.0103\n",
      "Epoch 175/200\n",
      "16/16 [==============================] - 10s 621ms/step - loss: nan - categorical_accuracy: 0.0103\n",
      "Epoch 176/200\n",
      "16/16 [==============================] - 10s 646ms/step - loss: nan - categorical_accuracy: 0.0103\n",
      "Epoch 177/200\n",
      "16/16 [==============================] - 11s 650ms/step - loss: nan - categorical_accuracy: 0.0103\n",
      "Epoch 178/200\n",
      "16/16 [==============================] - 11s 671ms/step - loss: nan - categorical_accuracy: 0.0103\n",
      "Epoch 179/200\n",
      "16/16 [==============================] - 11s 657ms/step - loss: nan - categorical_accuracy: 0.0103\n",
      "Epoch 180/200\n",
      "16/16 [==============================] - 11s 659ms/step - loss: nan - categorical_accuracy: 0.0103\n",
      "Epoch 181/200\n",
      "16/16 [==============================] - 10s 651ms/step - loss: nan - categorical_accuracy: 0.0103\n",
      "Epoch 182/200\n",
      "16/16 [==============================] - 10s 646ms/step - loss: nan - categorical_accuracy: 0.0103\n",
      "Epoch 183/200\n",
      "16/16 [==============================] - 10s 591ms/step - loss: nan - categorical_accuracy: 0.0103\n",
      "Epoch 184/200\n",
      "16/16 [==============================] - 10s 615ms/step - loss: nan - categorical_accuracy: 0.0103\n",
      "Epoch 185/200\n",
      "16/16 [==============================] - 11s 654ms/step - loss: nan - categorical_accuracy: 0.0103\n",
      "Epoch 186/200\n",
      "16/16 [==============================] - 11s 661ms/step - loss: nan - categorical_accuracy: 0.0103\n",
      "Epoch 187/200\n",
      "16/16 [==============================] - 11s 678ms/step - loss: nan - categorical_accuracy: 0.0103\n",
      "Epoch 188/200\n",
      "16/16 [==============================] - 11s 655ms/step - loss: nan - categorical_accuracy: 0.0103\n",
      "Epoch 189/200\n",
      "16/16 [==============================] - 10s 618ms/step - loss: nan - categorical_accuracy: 0.0103\n",
      "Epoch 190/200\n",
      "16/16 [==============================] - 10s 584ms/step - loss: nan - categorical_accuracy: 0.0103\n",
      "Epoch 191/200\n",
      "16/16 [==============================] - 10s 643ms/step - loss: nan - categorical_accuracy: 0.0103\n",
      "Epoch 192/200\n",
      "16/16 [==============================] - 11s 678ms/step - loss: nan - categorical_accuracy: 0.0103\n",
      "Epoch 193/200\n",
      "16/16 [==============================] - 10s 600ms/step - loss: nan - categorical_accuracy: 0.0103\n",
      "Epoch 194/200\n",
      "16/16 [==============================] - 10s 616ms/step - loss: nan - categorical_accuracy: 0.0103\n",
      "Epoch 195/200\n",
      "16/16 [==============================] - 10s 611ms/step - loss: nan - categorical_accuracy: 0.0103\n",
      "Epoch 196/200\n",
      "16/16 [==============================] - 10s 655ms/step - loss: nan - categorical_accuracy: 0.0103\n",
      "Epoch 197/200\n",
      "16/16 [==============================] - 11s 637ms/step - loss: nan - categorical_accuracy: 0.0103\n",
      "Epoch 198/200\n",
      "16/16 [==============================] - 11s 663ms/step - loss: nan - categorical_accuracy: 0.0103\n",
      "Epoch 199/200\n",
      "16/16 [==============================] - 10s 644ms/step - loss: nan - categorical_accuracy: 0.0103\n",
      "Epoch 200/200\n",
      "16/16 [==============================] - 11s 660ms/step - loss: nan - categorical_accuracy: 0.0103\n"
     ]
    },
    {
     "data": {
      "text/plain": [
       "<keras.callbacks.History at 0x1e4c1d9ae90>"
      ]
     },
     "execution_count": 442,
     "metadata": {},
     "output_type": "execute_result"
    }
   ],
   "source": [
    "model.fit(X, y, epochs=200, callbacks=[tb_callback])\n"
   ]
  },
  {
   "cell_type": "code",
   "execution_count": 443,
   "metadata": {},
   "outputs": [
    {
     "name": "stdout",
     "output_type": "stream",
     "text": [
      "Model: \"sequential_22\"\n",
      "_________________________________________________________________\n",
      " Layer (type)                Output Shape              Param #   \n",
      "=================================================================\n",
      " lstm_64 (LSTM)              (None, 192, 64)           74240     \n",
      "                                                                 \n",
      " lstm_65 (LSTM)              (None, 192, 128)          98816     \n",
      "                                                                 \n",
      " lstm_66 (LSTM)              (None, 64)                49408     \n",
      "                                                                 \n",
      " dense_63 (Dense)            (None, 64)                4160      \n",
      "                                                                 \n",
      " dense_64 (Dense)            (None, 32)                2080      \n",
      "                                                                 \n",
      " dense_65 (Dense)            (None, 100)               3300      \n",
      "                                                                 \n",
      "=================================================================\n",
      "Total params: 232,004\n",
      "Trainable params: 232,004\n",
      "Non-trainable params: 0\n",
      "_________________________________________________________________\n"
     ]
    }
   ],
   "source": [
    "model.summary()\n"
   ]
  },
  {
   "cell_type": "code",
   "execution_count": 444,
   "metadata": {},
   "outputs": [
    {
     "name": "stdout",
     "output_type": "stream",
     "text": [
      "2/2 [==============================] - 1s 205ms/step\n"
     ]
    }
   ],
   "source": [
    "res = model.predict(X_test)\n"
   ]
  },
  {
   "cell_type": "code",
   "execution_count": null,
   "metadata": {},
   "outputs": [],
   "source": [
    "X_test"
   ]
  },
  {
   "cell_type": "code",
   "execution_count": 369,
   "metadata": {},
   "outputs": [
    {
     "data": {
      "text/plain": [
       "array([1, 0, 0, 0, 0, 0, 0, 0, 0, 0, 0, 0, 0, 0, 0, 0, 0, 0, 0, 0, 0, 0,\n",
       "       0, 0, 0, 0, 0, 0, 0, 0, 0, 0, 0, 0, 0, 0, 0, 0, 0, 0, 0, 0, 0, 0,\n",
       "       0, 0, 0, 0, 0, 0, 0, 0, 0, 0, 0, 0, 0, 0, 0, 0, 0, 0, 0, 0, 0, 0,\n",
       "       0, 0, 0, 0, 0, 0, 0, 0, 0, 0, 0, 0, 0, 0, 0, 0, 0, 0, 0, 0, 0, 0,\n",
       "       0, 0, 0, 0, 0, 0, 0, 0, 0, 0, 0, 0])"
      ]
     },
     "execution_count": 369,
     "metadata": {},
     "output_type": "execute_result"
    }
   ],
   "source": [
    "y[np.argmax(res[4])]\n"
   ]
  },
  {
   "cell_type": "code",
   "execution_count": 449,
   "metadata": {},
   "outputs": [
    {
     "ename": "ModuleNotFoundError",
     "evalue": "No module named 'model'",
     "output_type": "error",
     "traceback": [
      "\u001b[1;31m---------------------------------------------------------------------------\u001b[0m",
      "\u001b[1;31mModuleNotFoundError\u001b[0m                       Traceback (most recent call last)",
      "Cell \u001b[1;32mIn[449], line 2\u001b[0m\n\u001b[0;32m      1\u001b[0m \u001b[38;5;28;01mimport\u001b[39;00m \u001b[38;5;21;01mtorch\u001b[39;00m\n\u001b[1;32m----> 2\u001b[0m \u001b[38;5;28;01mfrom\u001b[39;00m \u001b[38;5;21;01mmodel\u001b[39;00m \u001b[38;5;28;01mimport\u001b[39;00m T2M_GPT\n",
      "\u001b[1;31mModuleNotFoundError\u001b[0m: No module named 'model'"
     ]
    }
   ],
   "source": [
    "import torch\n",
    "from model import T2M_GPT\n"
   ]
  }
 ],
 "metadata": {
  "kernelspec": {
   "display_name": "Python 3",
   "language": "python",
   "name": "python3"
  },
  "language_info": {
   "codemirror_mode": {
    "name": "ipython",
    "version": 3
   },
   "file_extension": ".py",
   "mimetype": "text/x-python",
   "name": "python",
   "nbconvert_exporter": "python",
   "pygments_lexer": "ipython3",
   "version": "3.10.2"
  }
 },
 "nbformat": 4,
 "nbformat_minor": 2
}
